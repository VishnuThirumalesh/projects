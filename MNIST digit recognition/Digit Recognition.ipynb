{
 "cells": [
  {
   "cell_type": "markdown",
   "metadata": {},
   "source": [
    "\n",
    "# Digit Recognition using MNIST Dataset\n",
    "# Vishnu Bangalore Thirumalesha\n",
    "\n"
   ]
  },
  {
   "cell_type": "markdown",
   "metadata": {},
   "source": [
    "references:\n",
    "https://medium.com/analytics-vidhya/principal-component-analysis-pca-with-code-on-mnist-dataset-da7de0d07c22\n",
    "https://towardsdatascience.com/image-classification-in-10-minutes-with-mnist-dataset-54c35b77a38d"
   ]
  },
  {
   "cell_type": "code",
   "execution_count": 248,
   "metadata": {},
   "outputs": [],
   "source": [
    "import numpy as np\n",
    "import pandas as pd\n",
    "import matplotlib.pyplot as plt\n",
    "from sklearn.preprocessing import StandardScaler\n",
    "from scipy.linalg import eigh \n",
    "import seaborn as sn\n"
   ]
  },
  {
   "cell_type": "markdown",
   "metadata": {},
   "source": [
    " https://www.kaggle.com/c/digit-recognizer/data\n",
    " # Load the data"
   ]
  },
  {
   "cell_type": "code",
   "execution_count": 249,
   "metadata": {},
   "outputs": [
    {
     "data": {
      "text/html": [
       "<div>\n",
       "<style scoped>\n",
       "    .dataframe tbody tr th:only-of-type {\n",
       "        vertical-align: middle;\n",
       "    }\n",
       "\n",
       "    .dataframe tbody tr th {\n",
       "        vertical-align: top;\n",
       "    }\n",
       "\n",
       "    .dataframe thead th {\n",
       "        text-align: right;\n",
       "    }\n",
       "</style>\n",
       "<table border=\"1\" class=\"dataframe\">\n",
       "  <thead>\n",
       "    <tr style=\"text-align: right;\">\n",
       "      <th></th>\n",
       "      <th>label</th>\n",
       "      <th>pixel0</th>\n",
       "      <th>pixel1</th>\n",
       "      <th>pixel2</th>\n",
       "      <th>pixel3</th>\n",
       "      <th>pixel4</th>\n",
       "      <th>pixel5</th>\n",
       "      <th>pixel6</th>\n",
       "      <th>pixel7</th>\n",
       "      <th>pixel8</th>\n",
       "      <th>...</th>\n",
       "      <th>pixel774</th>\n",
       "      <th>pixel775</th>\n",
       "      <th>pixel776</th>\n",
       "      <th>pixel777</th>\n",
       "      <th>pixel778</th>\n",
       "      <th>pixel779</th>\n",
       "      <th>pixel780</th>\n",
       "      <th>pixel781</th>\n",
       "      <th>pixel782</th>\n",
       "      <th>pixel783</th>\n",
       "    </tr>\n",
       "  </thead>\n",
       "  <tbody>\n",
       "    <tr>\n",
       "      <th>0</th>\n",
       "      <td>1</td>\n",
       "      <td>0</td>\n",
       "      <td>0</td>\n",
       "      <td>0</td>\n",
       "      <td>0</td>\n",
       "      <td>0</td>\n",
       "      <td>0</td>\n",
       "      <td>0</td>\n",
       "      <td>0</td>\n",
       "      <td>0</td>\n",
       "      <td>...</td>\n",
       "      <td>0</td>\n",
       "      <td>0</td>\n",
       "      <td>0</td>\n",
       "      <td>0</td>\n",
       "      <td>0</td>\n",
       "      <td>0</td>\n",
       "      <td>0</td>\n",
       "      <td>0</td>\n",
       "      <td>0</td>\n",
       "      <td>0</td>\n",
       "    </tr>\n",
       "    <tr>\n",
       "      <th>1</th>\n",
       "      <td>0</td>\n",
       "      <td>0</td>\n",
       "      <td>0</td>\n",
       "      <td>0</td>\n",
       "      <td>0</td>\n",
       "      <td>0</td>\n",
       "      <td>0</td>\n",
       "      <td>0</td>\n",
       "      <td>0</td>\n",
       "      <td>0</td>\n",
       "      <td>...</td>\n",
       "      <td>0</td>\n",
       "      <td>0</td>\n",
       "      <td>0</td>\n",
       "      <td>0</td>\n",
       "      <td>0</td>\n",
       "      <td>0</td>\n",
       "      <td>0</td>\n",
       "      <td>0</td>\n",
       "      <td>0</td>\n",
       "      <td>0</td>\n",
       "    </tr>\n",
       "    <tr>\n",
       "      <th>2</th>\n",
       "      <td>1</td>\n",
       "      <td>0</td>\n",
       "      <td>0</td>\n",
       "      <td>0</td>\n",
       "      <td>0</td>\n",
       "      <td>0</td>\n",
       "      <td>0</td>\n",
       "      <td>0</td>\n",
       "      <td>0</td>\n",
       "      <td>0</td>\n",
       "      <td>...</td>\n",
       "      <td>0</td>\n",
       "      <td>0</td>\n",
       "      <td>0</td>\n",
       "      <td>0</td>\n",
       "      <td>0</td>\n",
       "      <td>0</td>\n",
       "      <td>0</td>\n",
       "      <td>0</td>\n",
       "      <td>0</td>\n",
       "      <td>0</td>\n",
       "    </tr>\n",
       "    <tr>\n",
       "      <th>3</th>\n",
       "      <td>4</td>\n",
       "      <td>0</td>\n",
       "      <td>0</td>\n",
       "      <td>0</td>\n",
       "      <td>0</td>\n",
       "      <td>0</td>\n",
       "      <td>0</td>\n",
       "      <td>0</td>\n",
       "      <td>0</td>\n",
       "      <td>0</td>\n",
       "      <td>...</td>\n",
       "      <td>0</td>\n",
       "      <td>0</td>\n",
       "      <td>0</td>\n",
       "      <td>0</td>\n",
       "      <td>0</td>\n",
       "      <td>0</td>\n",
       "      <td>0</td>\n",
       "      <td>0</td>\n",
       "      <td>0</td>\n",
       "      <td>0</td>\n",
       "    </tr>\n",
       "    <tr>\n",
       "      <th>4</th>\n",
       "      <td>0</td>\n",
       "      <td>0</td>\n",
       "      <td>0</td>\n",
       "      <td>0</td>\n",
       "      <td>0</td>\n",
       "      <td>0</td>\n",
       "      <td>0</td>\n",
       "      <td>0</td>\n",
       "      <td>0</td>\n",
       "      <td>0</td>\n",
       "      <td>...</td>\n",
       "      <td>0</td>\n",
       "      <td>0</td>\n",
       "      <td>0</td>\n",
       "      <td>0</td>\n",
       "      <td>0</td>\n",
       "      <td>0</td>\n",
       "      <td>0</td>\n",
       "      <td>0</td>\n",
       "      <td>0</td>\n",
       "      <td>0</td>\n",
       "    </tr>\n",
       "  </tbody>\n",
       "</table>\n",
       "<p>5 rows × 785 columns</p>\n",
       "</div>"
      ],
      "text/plain": [
       "   label  pixel0  pixel1  pixel2  pixel3  pixel4  pixel5  pixel6  pixel7  \\\n",
       "0      1       0       0       0       0       0       0       0       0   \n",
       "1      0       0       0       0       0       0       0       0       0   \n",
       "2      1       0       0       0       0       0       0       0       0   \n",
       "3      4       0       0       0       0       0       0       0       0   \n",
       "4      0       0       0       0       0       0       0       0       0   \n",
       "\n",
       "   pixel8  ...  pixel774  pixel775  pixel776  pixel777  pixel778  pixel779  \\\n",
       "0       0  ...         0         0         0         0         0         0   \n",
       "1       0  ...         0         0         0         0         0         0   \n",
       "2       0  ...         0         0         0         0         0         0   \n",
       "3       0  ...         0         0         0         0         0         0   \n",
       "4       0  ...         0         0         0         0         0         0   \n",
       "\n",
       "   pixel780  pixel781  pixel782  pixel783  \n",
       "0         0         0         0         0  \n",
       "1         0         0         0         0  \n",
       "2         0         0         0         0  \n",
       "3         0         0         0         0  \n",
       "4         0         0         0         0  \n",
       "\n",
       "[5 rows x 785 columns]"
      ]
     },
     "execution_count": 249,
     "metadata": {},
     "output_type": "execute_result"
    }
   ],
   "source": [
    "\n",
    "#Data set downloaded\n",
    "#https://www.kaggle.com/c/digit-recognizer/data \n",
    "maindata = pd.read_csv('train.csv')\n",
    "\n",
    "maindata.head(5)"
   ]
  },
  {
   "cell_type": "markdown",
   "metadata": {},
   "source": [
    "# Data's shape (records, dimensions)"
   ]
  },
  {
   "cell_type": "code",
   "execution_count": 250,
   "metadata": {},
   "outputs": [
    {
     "data": {
      "text/plain": [
       "(42000, 785)"
      ]
     },
     "execution_count": 250,
     "metadata": {},
     "output_type": "execute_result"
    }
   ],
   "source": [
    "maindata.shape"
   ]
  },
  {
   "cell_type": "markdown",
   "metadata": {},
   "source": [
    "# Visulaize the dataset, converting pixels to grayscale images"
   ]
  },
  {
   "cell_type": "code",
   "execution_count": 251,
   "metadata": {},
   "outputs": [
    {
     "data": {
      "image/png": "[encoded data removed]",
      "text/plain": [
       "<Figure size 72x72 with 1 Axes>"
      ]
     },
     "metadata": {
      "needs_background": "light"
     },
     "output_type": "display_data"
    },
    {
     "data": {
      "image/png": "[encoded data removed]",
      "text/plain": [
       "<Figure size 72x72 with 1 Axes>"
      ]
     },
     "metadata": {
      "needs_background": "light"
     },
     "output_type": "display_data"
    },
    {
     "data": {
      "image/png": "[encoded data removed]",
      "text/plain": [
       "<Figure size 72x72 with 1 Axes>"
      ]
     },
     "metadata": {
      "needs_background": "light"
     },
     "output_type": "display_data"
    },
    {
     "data": {
      "image/png": "[encoded data removed]",
      "text/plain": [
       "<Figure size 72x72 with 1 Axes>"
      ]
     },
     "metadata": {
      "needs_background": "light"
     },
     "output_type": "display_data"
    },
    {
     "data": {
      "image/png": "[encoded data removed]",
      "text/plain": [
       "<Figure size 72x72 with 1 Axes>"
      ]
     },
     "metadata": {
      "needs_background": "light"
     },
     "output_type": "display_data"
    },
    {
     "data": {
      "image/png": "[encoded data removed]",
      "text/plain": [
       "<Figure size 72x72 with 1 Axes>"
      ]
     },
     "metadata": {
      "needs_background": "light"
     },
     "output_type": "display_data"
    },
    {
     "data": {
      "image/png": "[encoded data removed]",
      "text/plain": [
       "<Figure size 72x72 with 1 Axes>"
      ]
     },
     "metadata": {
      "needs_background": "light"
     },
     "output_type": "display_data"
    },
    {
     "data": {
      "image/png": "[encoded data removed]",
      "text/plain": [
       "<Figure size 72x72 with 1 Axes>"
      ]
     },
     "metadata": {
      "needs_background": "light"
     },
     "output_type": "display_data"
    },
    {
     "data": {
      "image/png": "[encoded data removed]",
      "text/plain": [
       "<Figure size 72x72 with 1 Axes>"
      ]
     },
     "metadata": {
      "needs_background": "light"
     },
     "output_type": "display_data"
    },
    {
     "data": {
      "image/png": "[encoded data removed]",
      "text/plain": [
       "<Figure size 72x72 with 1 Axes>"
      ]
     },
     "metadata": {
      "needs_background": "light"
     },
     "output_type": "display_data"
    },
    {
     "data": {
      "image/png": "[encoded data removed]",
      "text/plain": [
       "<Figure size 72x72 with 1 Axes>"
      ]
     },
     "metadata": {
      "needs_background": "light"
     },
     "output_type": "display_data"
    }
   ],
   "source": [
    "img = maindata.drop(\"label\",axis=1)\n",
    "for i in range(11):\n",
    "    plt.figure(figsize=(1,1))\n",
    "    grid_data = img.iloc[i].values.reshape(28,28)\n",
    "    plt.imshow(grid_data, interpolation = \"none\", cmap = \"gray\")\n",
    "    plt.show()"
   ]
  },
  {
   "cell_type": "markdown",
   "metadata": {},
   "source": [
    "# Checking the count of all labels to see if we have balanced dataset"
   ]
  },
  {
   "cell_type": "code",
   "execution_count": 252,
   "metadata": {},
   "outputs": [
    {
     "data": {
      "text/plain": [
       "1    4684\n",
       "7    4401\n",
       "3    4351\n",
       "9    4188\n",
       "2    4177\n",
       "6    4137\n",
       "0    4132\n",
       "4    4072\n",
       "8    4063\n",
       "5    3795\n",
       "Name: label, dtype: int64"
      ]
     },
     "execution_count": 252,
     "metadata": {},
     "output_type": "execute_result"
    }
   ],
   "source": [
    "maindata.label.value_counts()"
   ]
  },
  {
   "cell_type": "code",
   "execution_count": 305,
   "metadata": {},
   "outputs": [
    {
     "data": {
      "text/plain": [
       "(array([4132., 4684., 4177., 4351., 4072., 3795., 4137., 4401., 4063.,\n",
       "        4188.]),\n",
       " array([0. , 0.9, 1.8, 2.7, 3.6, 4.5, 5.4, 6.3, 7.2, 8.1, 9. ]),\n",
       " <BarContainer object of 10 artists>)"
      ]
     },
     "execution_count": 305,
     "metadata": {},
     "output_type": "execute_result"
    },
    {
     "data": {
      "image/png": "[encoded data removed]",
      "text/plain": [
       "<Figure size 432x288 with 1 Axes>"
      ]
     },
     "metadata": {
      "needs_background": "light"
     },
     "output_type": "display_data"
    }
   ],
   "source": [
    "plt.hist(maindata.label)"
   ]
  },
  {
   "cell_type": "markdown",
   "metadata": {},
   "source": [
    "# mypca function\n",
    "Scale, fit and transform the data. Get the Top k eigen vectors. Return new modified dataframe for training"
   ]
  },
  {
   "cell_type": "code",
   "execution_count": 253,
   "metadata": {},
   "outputs": [],
   "source": [
    "\n",
    "def mypca(maindata, k):\n",
    "    print(\"in Mypca\")\n",
    "    print(\"Separating the label\")\n",
    "    lab = maindata['label']\n",
    "    print(\"Keeping the data except the label as dataframe\")\n",
    "    dta = maindata.drop(\"label\",axis=1)\n",
    "    labels = lab.head(42000)\n",
    "    data = dta.head(42000)\n",
    "    print(data.shape)\n",
    "    \n",
    "    print(\"Using sklearn's standard scaler to pre-process data \")\n",
    "    standardized_data = StandardScaler().fit_transform(data)\n",
    "\n",
    "    sample_data = standardized_data\n",
    "\n",
    "    covar_matrix = np.matmul(sample_data.T , sample_data)\n",
    "    val = 784-k\n",
    "\n",
    "    values, vectors = eigh(covar_matrix, eigvals=(val,783))\n",
    "    \n",
    "    vectors = vectors.T\n",
    "\n",
    "    new_coordinates = np.matmul(vectors, sample_data.T)\n",
    "\n",
    "    new_coordinates = np.vstack((new_coordinates, labels)).T\n",
    "\n",
    "    return new_coordinates"
   ]
  },
  {
   "cell_type": "code",
   "execution_count": 254,
   "metadata": {},
   "outputs": [
    {
     "name": "stdout",
     "output_type": "stream",
     "text": [
      "in Mypca\n",
      "Separating the label\n",
      "Keeping the data except the label as dataframe\n",
      "(42000, 784)\n",
      "Using sklearn's standard scaler to pre-process data \n"
     ]
    }
   ],
   "source": [
    "###Q2.3 visalization\n",
    "df = mypca(maindata,2)\n",
    "df = pd.DataFrame(data=df)\n"
   ]
  },
  {
   "cell_type": "markdown",
   "metadata": {},
   "source": [
    "# New shape of dataframe after mypca function"
   ]
  },
  {
   "cell_type": "code",
   "execution_count": 255,
   "metadata": {},
   "outputs": [
    {
     "data": {
      "text/plain": [
       "(42000, 3)"
      ]
     },
     "execution_count": 255,
     "metadata": {},
     "output_type": "execute_result"
    }
   ],
   "source": [
    "df.shape"
   ]
  },
  {
   "cell_type": "code",
   "execution_count": 256,
   "metadata": {},
   "outputs": [],
   "source": [
    "\n",
    "two_d = pd.DataFrame(data=df.iloc[:,0:2])\n",
    "two_d['label'] = df.iloc[:,-1]\n",
    "# print(two_d)"
   ]
  },
  {
   "cell_type": "markdown",
   "metadata": {},
   "source": [
    "# Visualization shows overlapping labels and can't be recognized separately"
   ]
  },
  {
   "cell_type": "code",
   "execution_count": 257,
   "metadata": {},
   "outputs": [
    {
     "name": "stdout",
     "output_type": "stream",
     "text": [
      "Projecting the original data sample of 784 dimensions on the plane formed by k principal eigenvectors by vector-vector multiplication\n"
     ]
    },
    {
     "data": {
      "image/png": "[encoded data removed]",
      "text/plain": [
       "<Figure size 555.875x504 with 1 Axes>"
      ]
     },
     "metadata": {
      "needs_background": "light"
     },
     "output_type": "display_data"
    }
   ],
   "source": [
    "print(\"Projecting the original data sample of 784 dimensions on the plane formed by k principal eigenvectors by vector-vector multiplication\")\n",
    "sn.FacetGrid(two_d, hue=\"label\", height=7).map(plt.scatter, 0, 1).add_legend()\n",
    "plt.show()"
   ]
  },
  {
   "cell_type": "markdown",
   "metadata": {},
   "source": [
    "# Using sklearn to know what is the right number of components for PCA "
   ]
  },
  {
   "cell_type": "code",
   "execution_count": 258,
   "metadata": {},
   "outputs": [],
   "source": [
    "# initializing the pca\n",
    "from sklearn import decomposition\n",
    "pca = decomposition.PCA()# PCA for dimensionality redcution (non-visualization)\n",
    "pca.n_components = 784\n",
    "standardized_data = StandardScaler().fit_transform(maindata)\n",
    "pca_data = pca.fit_transform(standardized_data)\n",
    "percentage_var_explained = pca.explained_variance_ / np.sum(pca.explained_variance_);\n",
    "cum_var_explained = np.cumsum(percentage_var_explained)"
   ]
  },
  {
   "cell_type": "markdown",
   "metadata": {},
   "source": [
    "# Shows the variance for data vs components"
   ]
  },
  {
   "cell_type": "code",
   "execution_count": 259,
   "metadata": {},
   "outputs": [
    {
     "data": {
      "image/png": "[encoded data removed]",
      "text/plain": [
       "<Figure size 432x288 with 1 Axes>"
      ]
     },
     "metadata": {
      "needs_background": "light"
     },
     "output_type": "display_data"
    }
   ],
   "source": [
    "# Plot the PCA spectrum\n",
    "plt.figure(1, figsize=(6, 4))\n",
    "plt.clf()\n",
    "plt.plot(cum_var_explained, linewidth=2)\n",
    "plt.axis('tight')\n",
    "plt.grid()\n",
    "plt.xlabel('n_components')\n",
    "plt.ylabel('Cumulative_explained_variance')\n",
    "plt.show()"
   ]
  },
  {
   "cell_type": "markdown",
   "metadata": {},
   "source": [
    "# Since we are using eigen vectors, let's visualize to see how these look\n",
    "# Creating a function to get eigen vectors "
   ]
  },
  {
   "cell_type": "code",
   "execution_count": 260,
   "metadata": {},
   "outputs": [],
   "source": [
    "###Q2.4 Visualize based on 10 PCs\n",
    "def getvectors(maindata,k):\n",
    "    print(\"in getvectors\")\n",
    "    lab = maindata['label']\n",
    "\n",
    "    dta = maindata.drop(\"label\",axis=1)\n",
    "    labels = lab.head(40000)\n",
    "    data = dta.head(40000)\n",
    "\n",
    "    standardized_data = StandardScaler().fit_transform(data)\n",
    "    sample_data = standardized_data\n",
    "    val = 783-k\n",
    "    covar_matrix = np.matmul(sample_data.T , sample_data)\n",
    "\n",
    "    values, vc = eigh(covar_matrix, eigvals=(val,783))\n",
    "    return vc"
   ]
  },
  {
   "cell_type": "markdown",
   "metadata": {},
   "source": [
    "# Let us get top 11 eigen vectors with 784 features"
   ]
  },
  {
   "cell_type": "code",
   "execution_count": 261,
   "metadata": {},
   "outputs": [
    {
     "name": "stdout",
     "output_type": "stream",
     "text": [
      "in Mypca\n",
      "Separating the label\n",
      "Keeping the data except the label as dataframe\n",
      "(42000, 784)\n",
      "Using sklearn's standard scaler to pre-process data \n",
      "in getvectors\n"
     ]
    }
   ],
   "source": [
    "k = 10\n",
    "df = mypca(maindata,k)\n",
    "vc = getvectors(maindata,k)\n",
    "vc = vc.T"
   ]
  },
  {
   "cell_type": "code",
   "execution_count": 262,
   "metadata": {},
   "outputs": [
    {
     "name": "stdout",
     "output_type": "stream",
     "text": [
      "(42000, 11)\n",
      "(784,)\n"
     ]
    },
    {
     "data": {
      "text/html": [
       "<div>\n",
       "<style scoped>\n",
       "    .dataframe tbody tr th:only-of-type {\n",
       "        vertical-align: middle;\n",
       "    }\n",
       "\n",
       "    .dataframe tbody tr th {\n",
       "        vertical-align: top;\n",
       "    }\n",
       "\n",
       "    .dataframe thead th {\n",
       "        text-align: right;\n",
       "    }\n",
       "</style>\n",
       "<table border=\"1\" class=\"dataframe\">\n",
       "  <thead>\n",
       "    <tr style=\"text-align: right;\">\n",
       "      <th></th>\n",
       "      <th>0</th>\n",
       "      <th>1</th>\n",
       "      <th>2</th>\n",
       "      <th>3</th>\n",
       "      <th>4</th>\n",
       "      <th>5</th>\n",
       "      <th>6</th>\n",
       "      <th>7</th>\n",
       "      <th>8</th>\n",
       "      <th>9</th>\n",
       "      <th>...</th>\n",
       "      <th>774</th>\n",
       "      <th>775</th>\n",
       "      <th>776</th>\n",
       "      <th>777</th>\n",
       "      <th>778</th>\n",
       "      <th>779</th>\n",
       "      <th>780</th>\n",
       "      <th>781</th>\n",
       "      <th>782</th>\n",
       "      <th>783</th>\n",
       "    </tr>\n",
       "  </thead>\n",
       "  <tbody>\n",
       "    <tr>\n",
       "      <th>0</th>\n",
       "      <td>0.0</td>\n",
       "      <td>0.0</td>\n",
       "      <td>0.0</td>\n",
       "      <td>0.0</td>\n",
       "      <td>0.0</td>\n",
       "      <td>0.0</td>\n",
       "      <td>0.0</td>\n",
       "      <td>0.0</td>\n",
       "      <td>0.0</td>\n",
       "      <td>0.0</td>\n",
       "      <td>...</td>\n",
       "      <td>0.007567</td>\n",
       "      <td>0.013350</td>\n",
       "      <td>0.015614</td>\n",
       "      <td>0.015951</td>\n",
       "      <td>0.013505</td>\n",
       "      <td>0.010212</td>\n",
       "      <td>0.0</td>\n",
       "      <td>0.0</td>\n",
       "      <td>0.0</td>\n",
       "      <td>0.0</td>\n",
       "    </tr>\n",
       "    <tr>\n",
       "      <th>1</th>\n",
       "      <td>0.0</td>\n",
       "      <td>0.0</td>\n",
       "      <td>0.0</td>\n",
       "      <td>0.0</td>\n",
       "      <td>0.0</td>\n",
       "      <td>0.0</td>\n",
       "      <td>0.0</td>\n",
       "      <td>0.0</td>\n",
       "      <td>0.0</td>\n",
       "      <td>0.0</td>\n",
       "      <td>...</td>\n",
       "      <td>-0.017576</td>\n",
       "      <td>-0.014411</td>\n",
       "      <td>-0.010688</td>\n",
       "      <td>-0.007753</td>\n",
       "      <td>-0.003519</td>\n",
       "      <td>-0.001533</td>\n",
       "      <td>0.0</td>\n",
       "      <td>0.0</td>\n",
       "      <td>0.0</td>\n",
       "      <td>0.0</td>\n",
       "    </tr>\n",
       "    <tr>\n",
       "      <th>2</th>\n",
       "      <td>0.0</td>\n",
       "      <td>0.0</td>\n",
       "      <td>0.0</td>\n",
       "      <td>0.0</td>\n",
       "      <td>0.0</td>\n",
       "      <td>0.0</td>\n",
       "      <td>0.0</td>\n",
       "      <td>0.0</td>\n",
       "      <td>0.0</td>\n",
       "      <td>0.0</td>\n",
       "      <td>...</td>\n",
       "      <td>0.002690</td>\n",
       "      <td>0.007257</td>\n",
       "      <td>0.009166</td>\n",
       "      <td>0.009383</td>\n",
       "      <td>0.006600</td>\n",
       "      <td>0.005320</td>\n",
       "      <td>0.0</td>\n",
       "      <td>0.0</td>\n",
       "      <td>0.0</td>\n",
       "      <td>0.0</td>\n",
       "    </tr>\n",
       "    <tr>\n",
       "      <th>3</th>\n",
       "      <td>0.0</td>\n",
       "      <td>0.0</td>\n",
       "      <td>0.0</td>\n",
       "      <td>0.0</td>\n",
       "      <td>0.0</td>\n",
       "      <td>0.0</td>\n",
       "      <td>0.0</td>\n",
       "      <td>0.0</td>\n",
       "      <td>0.0</td>\n",
       "      <td>0.0</td>\n",
       "      <td>...</td>\n",
       "      <td>-0.019092</td>\n",
       "      <td>-0.012558</td>\n",
       "      <td>-0.005473</td>\n",
       "      <td>-0.001861</td>\n",
       "      <td>-0.001796</td>\n",
       "      <td>-0.000800</td>\n",
       "      <td>0.0</td>\n",
       "      <td>0.0</td>\n",
       "      <td>0.0</td>\n",
       "      <td>0.0</td>\n",
       "    </tr>\n",
       "    <tr>\n",
       "      <th>4</th>\n",
       "      <td>0.0</td>\n",
       "      <td>0.0</td>\n",
       "      <td>0.0</td>\n",
       "      <td>0.0</td>\n",
       "      <td>0.0</td>\n",
       "      <td>0.0</td>\n",
       "      <td>0.0</td>\n",
       "      <td>0.0</td>\n",
       "      <td>0.0</td>\n",
       "      <td>0.0</td>\n",
       "      <td>...</td>\n",
       "      <td>-0.039531</td>\n",
       "      <td>-0.031764</td>\n",
       "      <td>-0.022594</td>\n",
       "      <td>-0.016435</td>\n",
       "      <td>-0.010753</td>\n",
       "      <td>-0.007076</td>\n",
       "      <td>0.0</td>\n",
       "      <td>0.0</td>\n",
       "      <td>0.0</td>\n",
       "      <td>0.0</td>\n",
       "    </tr>\n",
       "    <tr>\n",
       "      <th>5</th>\n",
       "      <td>0.0</td>\n",
       "      <td>0.0</td>\n",
       "      <td>0.0</td>\n",
       "      <td>0.0</td>\n",
       "      <td>0.0</td>\n",
       "      <td>0.0</td>\n",
       "      <td>0.0</td>\n",
       "      <td>0.0</td>\n",
       "      <td>0.0</td>\n",
       "      <td>0.0</td>\n",
       "      <td>...</td>\n",
       "      <td>0.004082</td>\n",
       "      <td>0.000931</td>\n",
       "      <td>-0.001713</td>\n",
       "      <td>-0.002712</td>\n",
       "      <td>-0.002124</td>\n",
       "      <td>-0.001423</td>\n",
       "      <td>0.0</td>\n",
       "      <td>0.0</td>\n",
       "      <td>0.0</td>\n",
       "      <td>0.0</td>\n",
       "    </tr>\n",
       "    <tr>\n",
       "      <th>6</th>\n",
       "      <td>0.0</td>\n",
       "      <td>0.0</td>\n",
       "      <td>0.0</td>\n",
       "      <td>0.0</td>\n",
       "      <td>0.0</td>\n",
       "      <td>0.0</td>\n",
       "      <td>0.0</td>\n",
       "      <td>0.0</td>\n",
       "      <td>0.0</td>\n",
       "      <td>0.0</td>\n",
       "      <td>...</td>\n",
       "      <td>0.003916</td>\n",
       "      <td>0.003268</td>\n",
       "      <td>0.003702</td>\n",
       "      <td>0.004379</td>\n",
       "      <td>0.005351</td>\n",
       "      <td>0.004652</td>\n",
       "      <td>0.0</td>\n",
       "      <td>0.0</td>\n",
       "      <td>0.0</td>\n",
       "      <td>0.0</td>\n",
       "    </tr>\n",
       "    <tr>\n",
       "      <th>7</th>\n",
       "      <td>0.0</td>\n",
       "      <td>0.0</td>\n",
       "      <td>0.0</td>\n",
       "      <td>0.0</td>\n",
       "      <td>0.0</td>\n",
       "      <td>0.0</td>\n",
       "      <td>0.0</td>\n",
       "      <td>0.0</td>\n",
       "      <td>0.0</td>\n",
       "      <td>0.0</td>\n",
       "      <td>...</td>\n",
       "      <td>0.000628</td>\n",
       "      <td>0.000281</td>\n",
       "      <td>-0.000761</td>\n",
       "      <td>-0.001299</td>\n",
       "      <td>-0.001877</td>\n",
       "      <td>-0.001600</td>\n",
       "      <td>0.0</td>\n",
       "      <td>0.0</td>\n",
       "      <td>0.0</td>\n",
       "      <td>0.0</td>\n",
       "    </tr>\n",
       "    <tr>\n",
       "      <th>8</th>\n",
       "      <td>0.0</td>\n",
       "      <td>0.0</td>\n",
       "      <td>0.0</td>\n",
       "      <td>0.0</td>\n",
       "      <td>0.0</td>\n",
       "      <td>0.0</td>\n",
       "      <td>0.0</td>\n",
       "      <td>0.0</td>\n",
       "      <td>0.0</td>\n",
       "      <td>0.0</td>\n",
       "      <td>...</td>\n",
       "      <td>0.008717</td>\n",
       "      <td>0.006019</td>\n",
       "      <td>0.003638</td>\n",
       "      <td>0.001989</td>\n",
       "      <td>0.001286</td>\n",
       "      <td>0.000831</td>\n",
       "      <td>0.0</td>\n",
       "      <td>0.0</td>\n",
       "      <td>0.0</td>\n",
       "      <td>0.0</td>\n",
       "    </tr>\n",
       "    <tr>\n",
       "      <th>9</th>\n",
       "      <td>0.0</td>\n",
       "      <td>0.0</td>\n",
       "      <td>0.0</td>\n",
       "      <td>0.0</td>\n",
       "      <td>0.0</td>\n",
       "      <td>0.0</td>\n",
       "      <td>0.0</td>\n",
       "      <td>0.0</td>\n",
       "      <td>0.0</td>\n",
       "      <td>0.0</td>\n",
       "      <td>...</td>\n",
       "      <td>0.017234</td>\n",
       "      <td>0.013274</td>\n",
       "      <td>0.009135</td>\n",
       "      <td>0.006271</td>\n",
       "      <td>0.004184</td>\n",
       "      <td>0.003025</td>\n",
       "      <td>0.0</td>\n",
       "      <td>0.0</td>\n",
       "      <td>0.0</td>\n",
       "      <td>0.0</td>\n",
       "    </tr>\n",
       "    <tr>\n",
       "      <th>10</th>\n",
       "      <td>0.0</td>\n",
       "      <td>0.0</td>\n",
       "      <td>0.0</td>\n",
       "      <td>0.0</td>\n",
       "      <td>0.0</td>\n",
       "      <td>0.0</td>\n",
       "      <td>0.0</td>\n",
       "      <td>0.0</td>\n",
       "      <td>0.0</td>\n",
       "      <td>0.0</td>\n",
       "      <td>...</td>\n",
       "      <td>-0.001300</td>\n",
       "      <td>-0.000284</td>\n",
       "      <td>0.000324</td>\n",
       "      <td>0.000880</td>\n",
       "      <td>0.001006</td>\n",
       "      <td>0.000955</td>\n",
       "      <td>0.0</td>\n",
       "      <td>0.0</td>\n",
       "      <td>0.0</td>\n",
       "      <td>0.0</td>\n",
       "    </tr>\n",
       "  </tbody>\n",
       "</table>\n",
       "<p>11 rows × 784 columns</p>\n",
       "</div>"
      ],
      "text/plain": [
       "    0    1    2    3    4    5    6    7    8    9    ...       774       775  \\\n",
       "0   0.0  0.0  0.0  0.0  0.0  0.0  0.0  0.0  0.0  0.0  ...  0.007567  0.013350   \n",
       "1   0.0  0.0  0.0  0.0  0.0  0.0  0.0  0.0  0.0  0.0  ... -0.017576 -0.014411   \n",
       "2   0.0  0.0  0.0  0.0  0.0  0.0  0.0  0.0  0.0  0.0  ...  0.002690  0.007257   \n",
       "3   0.0  0.0  0.0  0.0  0.0  0.0  0.0  0.0  0.0  0.0  ... -0.019092 -0.012558   \n",
       "4   0.0  0.0  0.0  0.0  0.0  0.0  0.0  0.0  0.0  0.0  ... -0.039531 -0.031764   \n",
       "5   0.0  0.0  0.0  0.0  0.0  0.0  0.0  0.0  0.0  0.0  ...  0.004082  0.000931   \n",
       "6   0.0  0.0  0.0  0.0  0.0  0.0  0.0  0.0  0.0  0.0  ...  0.003916  0.003268   \n",
       "7   0.0  0.0  0.0  0.0  0.0  0.0  0.0  0.0  0.0  0.0  ...  0.000628  0.000281   \n",
       "8   0.0  0.0  0.0  0.0  0.0  0.0  0.0  0.0  0.0  0.0  ...  0.008717  0.006019   \n",
       "9   0.0  0.0  0.0  0.0  0.0  0.0  0.0  0.0  0.0  0.0  ...  0.017234  0.013274   \n",
       "10  0.0  0.0  0.0  0.0  0.0  0.0  0.0  0.0  0.0  0.0  ... -0.001300 -0.000284   \n",
       "\n",
       "         776       777       778       779  780  781  782  783  \n",
       "0   0.015614  0.015951  0.013505  0.010212  0.0  0.0  0.0  0.0  \n",
       "1  -0.010688 -0.007753 -0.003519 -0.001533  0.0  0.0  0.0  0.0  \n",
       "2   0.009166  0.009383  0.006600  0.005320  0.0  0.0  0.0  0.0  \n",
       "3  -0.005473 -0.001861 -0.001796 -0.000800  0.0  0.0  0.0  0.0  \n",
       "4  -0.022594 -0.016435 -0.010753 -0.007076  0.0  0.0  0.0  0.0  \n",
       "5  -0.001713 -0.002712 -0.002124 -0.001423  0.0  0.0  0.0  0.0  \n",
       "6   0.003702  0.004379  0.005351  0.004652  0.0  0.0  0.0  0.0  \n",
       "7  -0.000761 -0.001299 -0.001877 -0.001600  0.0  0.0  0.0  0.0  \n",
       "8   0.003638  0.001989  0.001286  0.000831  0.0  0.0  0.0  0.0  \n",
       "9   0.009135  0.006271  0.004184  0.003025  0.0  0.0  0.0  0.0  \n",
       "10  0.000324  0.000880  0.001006  0.000955  0.0  0.0  0.0  0.0  \n",
       "\n",
       "[11 rows x 784 columns]"
      ]
     },
     "execution_count": 262,
     "metadata": {},
     "output_type": "execute_result"
    }
   ],
   "source": [
    "print(df.shape)\n",
    "print(vc[0].shape)\n",
    "##Q2.6 visualizing all learned models\n",
    "vcdf = pd.DataFrame(data=vc)\n",
    "vcdf"
   ]
  },
  {
   "cell_type": "markdown",
   "metadata": {},
   "source": [
    "# Display all 11 vectors"
   ]
  },
  {
   "cell_type": "code",
   "execution_count": 263,
   "metadata": {},
   "outputs": [
    {
     "data": {
      "image/png": "[encoded data removed]",
      "text/plain": [
       "<Figure size 72x72 with 1 Axes>"
      ]
     },
     "metadata": {
      "needs_background": "light"
     },
     "output_type": "display_data"
    },
    {
     "data": {
      "image/png": "[encoded data removed]",
      "text/plain": [
       "<Figure size 72x72 with 1 Axes>"
      ]
     },
     "metadata": {
      "needs_background": "light"
     },
     "output_type": "display_data"
    },
    {
     "data": {
      "image/png": "[encoded data removed]",
      "text/plain": [
       "<Figure size 72x72 with 1 Axes>"
      ]
     },
     "metadata": {
      "needs_background": "light"
     },
     "output_type": "display_data"
    },
    {
     "data": {
      "image/png": "[encoded data removed]",
      "text/plain": [
       "<Figure size 72x72 with 1 Axes>"
      ]
     },
     "metadata": {
      "needs_background": "light"
     },
     "output_type": "display_data"
    },
    {
     "data": {
      "image/png": "[encoded data removed]",
      "text/plain": [
       "<Figure size 72x72 with 1 Axes>"
      ]
     },
     "metadata": {
      "needs_background": "light"
     },
     "output_type": "display_data"
    },
    {
     "data": {
      "image/png": "[encoded data removed]",
      "text/plain": [
       "<Figure size 72x72 with 1 Axes>"
      ]
     },
     "metadata": {
      "needs_background": "light"
     },
     "output_type": "display_data"
    },
    {
     "data": {
      "image/png": "[encoded data removed]",
      "text/plain": [
       "<Figure size 72x72 with 1 Axes>"
      ]
     },
     "metadata": {
      "needs_background": "light"
     },
     "output_type": "display_data"
    },
    {
     "data": {
      "image/png": "[encoded data removed]",
      "text/plain": [
       "<Figure size 72x72 with 1 Axes>"
      ]
     },
     "metadata": {
      "needs_background": "light"
     },
     "output_type": "display_data"
    },
    {
     "data": {
      "image/png": "[encoded data removed]",
      "text/plain": [
       "<Figure size 72x72 with 1 Axes>"
      ]
     },
     "metadata": {
      "needs_background": "light"
     },
     "output_type": "display_data"
    },
    {
     "data": {
      "image/png": "[encoded data removed]",
      "text/plain": [
       "<Figure size 72x72 with 1 Axes>"
      ]
     },
     "metadata": {
      "needs_background": "light"
     },
     "output_type": "display_data"
    },
    {
     "data": {
      "image/png": "[encoded data removed]",
      "text/plain": [
       "<Figure size 72x72 with 1 Axes>"
      ]
     },
     "metadata": {
      "needs_background": "light"
     },
     "output_type": "display_data"
    }
   ],
   "source": [
    "\n",
    "for i in range(11):\n",
    "    plt.figure(figsize=(1,1))\n",
    "    grid_data = vcdf.iloc[i].values.reshape(28,28)\n",
    "    plt.imshow(grid_data, interpolation = \"none\", cmap = \"gray\")\n",
    "    plt.show()"
   ]
  },
  {
   "cell_type": "markdown",
   "metadata": {},
   "source": [
    "# Using tensor flow for building the model"
   ]
  },
  {
   "cell_type": "code",
   "execution_count": 289,
   "metadata": {},
   "outputs": [],
   "source": [
    "\n",
    "import tensorflow as tf\n",
    "import numpy as np\n"
   ]
  },
  {
   "cell_type": "markdown",
   "metadata": {},
   "source": [
    "# Since test set didn't have labels, creating Train and Test set with train.csv data"
   ]
  },
  {
   "cell_type": "markdown",
   "metadata": {},
   "source": [
    "# Here we are not reducing dimension, we shall train and test for all features"
   ]
  },
  {
   "cell_type": "code",
   "execution_count": 290,
   "metadata": {},
   "outputs": [
    {
     "name": "stdout",
     "output_type": "stream",
     "text": [
      "(42000,)\n",
      "36000\n",
      "36000\n",
      "6000\n",
      "6000\n"
     ]
    }
   ],
   "source": [
    "xy = maindata['label']\n",
    "print(xy.shape)\n",
    "xt = maindata.drop(\"label\",axis=1)\n",
    "x_train = xt.iloc[:36000,:784]\n",
    "print(len(x_train))\n",
    "y_train = xy.iloc[:36000,]\n",
    "print(len(y_train))\n",
    "\n",
    "x_test = xt.iloc[36000:42000,:784]\n",
    "print(len(x_test))\n",
    "y_test = xy.iloc[36000:42000,]\n",
    "print(len(y_test))\n",
    "tf.keras.backend.set_floatx('float64')"
   ]
  },
  {
   "cell_type": "markdown",
   "metadata": {},
   "source": [
    "# Run epochs and evaluate the model"
   ]
  },
  {
   "cell_type": "code",
   "execution_count": 291,
   "metadata": {},
   "outputs": [
    {
     "name": "stdout",
     "output_type": "stream",
     "text": [
      "Epoch 1/100\n",
      "1125/1125 [==============================] - 9s 8ms/step - loss: 6.2730 - accuracy: 0.8569: 0s - loss: 6.5166 \n",
      "Epoch 2/100\n",
      "1125/1125 [==============================] - 10s 9ms/step - loss: 0.7127 - accuracy: 0.8930\n",
      "Epoch 3/100\n",
      "1125/1125 [==============================] - 9s 8ms/step - loss: 0.5295 - accuracy: 0.8965\n",
      "Epoch 4/100\n",
      "1125/1125 [==============================] - 10s 8ms/step - loss: 0.4699 - accuracy: 0.9048\n",
      "Epoch 5/100\n",
      "1125/1125 [==============================] - 9s 8ms/step - loss: 0.4695 - accuracy: 0.9038\n",
      "Epoch 6/100\n",
      "1125/1125 [==============================] - 9s 8ms/step - loss: 0.4582 - accuracy: 0.9076\n",
      "Epoch 7/100\n",
      "1125/1125 [==============================] - 9s 8ms/step - loss: 0.4410 - accuracy: 0.9098\n",
      "Epoch 8/100\n",
      "1125/1125 [==============================] - 10s 9ms/step - loss: 0.4338 - accuracy: 0.9142\n",
      "Epoch 9/100\n",
      "1125/1125 [==============================] - 9s 8ms/step - loss: 0.4092 - accuracy: 0.9204\n",
      "Epoch 10/100\n",
      "1125/1125 [==============================] - 9s 8ms/step - loss: 0.4445 - accuracy: 0.9178\n",
      "Epoch 11/100\n",
      "1125/1125 [==============================] - 9s 8ms/step - loss: 0.4044 - accuracy: 0.9243\n",
      "Epoch 12/100\n",
      "1125/1125 [==============================] - 9s 8ms/step - loss: 0.3868 - accuracy: 0.9221\n",
      "Epoch 13/100\n",
      "1125/1125 [==============================] - 9s 8ms/step - loss: 0.3986 - accuracy: 0.9255\n",
      "Epoch 14/100\n",
      "1125/1125 [==============================] - 9s 8ms/step - loss: 0.3924 - accuracy: 0.9251\n",
      "Epoch 15/100\n",
      "1125/1125 [==============================] - 10s 9ms/step - loss: 0.3866 - accuracy: 0.9305\n",
      "Epoch 16/100\n",
      "1125/1125 [==============================] - 9s 8ms/step - loss: 0.3680 - accuracy: 0.9318\n",
      "Epoch 17/100\n",
      "1125/1125 [==============================] - 10s 9ms/step - loss: 0.4178 - accuracy: 0.9260\n",
      "Epoch 18/100\n",
      "1125/1125 [==============================] - 9s 8ms/step - loss: 0.3463 - accuracy: 0.9333\n",
      "Epoch 19/100\n",
      "1125/1125 [==============================] - 10s 9ms/step - loss: 0.3584 - accuracy: 0.9320\n",
      "Epoch 20/100\n",
      "1125/1125 [==============================] - 10s 9ms/step - loss: 0.3602 - accuracy: 0.9333\n",
      "Epoch 21/100\n",
      "1125/1125 [==============================] - 10s 9ms/step - loss: 0.3630 - accuracy: 0.9331\n",
      "Epoch 22/100\n",
      "1125/1125 [==============================] - 9s 8ms/step - loss: 0.3886 - accuracy: 0.9316\n",
      "Epoch 23/100\n",
      "1125/1125 [==============================] - 8s 8ms/step - loss: 0.3561 - accuracy: 0.9333\n",
      "Epoch 24/100\n",
      "1125/1125 [==============================] - 8s 8ms/step - loss: 0.3543 - accuracy: 0.9346\n",
      "Epoch 25/100\n",
      "1125/1125 [==============================] - 9s 8ms/step - loss: 0.3521 - accuracy: 0.9353\n",
      "Epoch 26/100\n",
      "1125/1125 [==============================] - 9s 8ms/step - loss: 0.3691 - accuracy: 0.9376\n",
      "Epoch 27/100\n",
      "1125/1125 [==============================] - 10s 9ms/step - loss: 0.3312 - accuracy: 0.9385\n",
      "Epoch 28/100\n",
      "1125/1125 [==============================] - 10s 9ms/step - loss: 0.3667 - accuracy: 0.9353\n",
      "Epoch 29/100\n",
      "1125/1125 [==============================] - 10s 9ms/step - loss: 0.3655 - accuracy: 0.9347\n",
      "Epoch 30/100\n",
      "1125/1125 [==============================] - 10s 9ms/step - loss: 0.3429 - accuracy: 0.9389\n",
      "Epoch 31/100\n",
      "1125/1125 [==============================] - 10s 9ms/step - loss: 0.3675 - accuracy: 0.9369\n",
      "Epoch 32/100\n",
      "1125/1125 [==============================] - 10s 9ms/step - loss: 0.3671 - accuracy: 0.9360\n",
      "Epoch 33/100\n",
      "1125/1125 [==============================] - 10s 9ms/step - loss: 0.3446 - accuracy: 0.9361\n",
      "Epoch 34/100\n",
      "1125/1125 [==============================] - 10s 9ms/step - loss: 0.3464 - accuracy: 0.9374\n",
      "Epoch 35/100\n",
      "1125/1125 [==============================] - 10s 8ms/step - loss: 0.3408 - accuracy: 0.9414\n",
      "Epoch 36/100\n",
      "1125/1125 [==============================] - 9s 8ms/step - loss: 0.3252 - accuracy: 0.9399\n",
      "Epoch 37/100\n",
      "1125/1125 [==============================] - 9s 8ms/step - loss: 0.3428 - accuracy: 0.9385\n",
      "Epoch 38/100\n",
      "1125/1125 [==============================] - 9s 8ms/step - loss: 0.3500 - accuracy: 0.9409\n",
      "Epoch 39/100\n",
      "1125/1125 [==============================] - 9s 8ms/step - loss: 0.3383 - accuracy: 0.9394\n",
      "Epoch 40/100\n",
      "1125/1125 [==============================] - 10s 8ms/step - loss: 0.3289 - accuracy: 0.9429\n",
      "Epoch 41/100\n",
      "1125/1125 [==============================] - 10s 9ms/step - loss: 0.3659 - accuracy: 0.9374\n",
      "Epoch 42/100\n",
      "1125/1125 [==============================] - 9s 8ms/step - loss: 0.3747 - accuracy: 0.9380\n",
      "Epoch 43/100\n",
      "1125/1125 [==============================] - 9s 8ms/step - loss: 0.3662 - accuracy: 0.9396\n",
      "Epoch 44/100\n",
      "1125/1125 [==============================] - 9s 8ms/step - loss: 0.3079 - accuracy: 0.9435\n",
      "Epoch 45/100\n",
      "1125/1125 [==============================] - 9s 8ms/step - loss: 0.3576 - accuracy: 0.9386\n",
      "Epoch 46/100\n",
      "1125/1125 [==============================] - 9s 8ms/step - loss: 0.3412 - accuracy: 0.9426\n",
      "Epoch 47/100\n",
      "1125/1125 [==============================] - 9s 8ms/step - loss: 0.3365 - accuracy: 0.9411\n",
      "Epoch 48/100\n",
      "1125/1125 [==============================] - 9s 8ms/step - loss: 0.3322 - accuracy: 0.9436\n",
      "Epoch 49/100\n",
      "1125/1125 [==============================] - 9s 8ms/step - loss: 0.3399 - accuracy: 0.9419\n",
      "Epoch 50/100\n",
      "1125/1125 [==============================] - 9s 8ms/step - loss: 0.3623 - accuracy: 0.9409\n",
      "Epoch 51/100\n",
      "1125/1125 [==============================] - 9s 8ms/step - loss: 0.3462 - accuracy: 0.9431\n",
      "Epoch 52/100\n",
      "1125/1125 [==============================] - 9s 8ms/step - loss: 0.3389 - accuracy: 0.9421\n",
      "Epoch 53/100\n",
      "1125/1125 [==============================] - 10s 9ms/step - loss: 0.3556 - accuracy: 0.9458\n",
      "Epoch 54/100\n",
      "1125/1125 [==============================] - 10s 9ms/step - loss: 0.3395 - accuracy: 0.9443\n",
      "Epoch 55/100\n",
      "1125/1125 [==============================] - 9s 8ms/step - loss: 0.3324 - accuracy: 0.9470\n",
      "Epoch 56/100\n",
      "1125/1125 [==============================] - 10s 9ms/step - loss: 0.3387 - accuracy: 0.9443\n",
      "Epoch 57/100\n",
      "1125/1125 [==============================] - 10s 9ms/step - loss: 0.3281 - accuracy: 0.9434\n",
      "Epoch 58/100\n",
      "1125/1125 [==============================] - 11s 10ms/step - loss: 0.3362 - accuracy: 0.9447\n",
      "Epoch 59/100\n",
      "1125/1125 [==============================] - 10s 9ms/step - loss: 0.3460 - accuracy: 0.9447\n",
      "Epoch 60/100\n",
      "1125/1125 [==============================] - 10s 9ms/step - loss: 0.3585 - accuracy: 0.9415\n",
      "Epoch 61/100\n",
      "1125/1125 [==============================] - 10s 9ms/step - loss: 0.3258 - accuracy: 0.9429\n",
      "Epoch 62/100\n",
      "1125/1125 [==============================] - 10s 9ms/step - loss: 0.3256 - accuracy: 0.9422\n",
      "Epoch 63/100\n",
      "1125/1125 [==============================] - 9s 8ms/step - loss: 0.3291 - accuracy: 0.9405\n",
      "Epoch 64/100\n",
      "1125/1125 [==============================] - 10s 9ms/step - loss: 0.3455 - accuracy: 0.9450\n",
      "Epoch 65/100\n",
      "1125/1125 [==============================] - 10s 9ms/step - loss: 0.3609 - accuracy: 0.9426\n",
      "Epoch 66/100\n",
      "1125/1125 [==============================] - 10s 9ms/step - loss: 0.3207 - accuracy: 0.9443\n",
      "Epoch 67/100\n",
      "1125/1125 [==============================] - 9s 8ms/step - loss: 0.3122 - accuracy: 0.9465\n",
      "Epoch 68/100\n",
      "1125/1125 [==============================] - 9s 8ms/step - loss: 0.3653 - accuracy: 0.9420\n",
      "Epoch 69/100\n",
      "1125/1125 [==============================] - 9s 8ms/step - loss: 0.3567 - accuracy: 0.9447\n",
      "Epoch 70/100\n",
      "1125/1125 [==============================] - 9s 8ms/step - loss: 0.3387 - accuracy: 0.9414\n",
      "Epoch 71/100\n",
      "1125/1125 [==============================] - 9s 8ms/step - loss: 0.3434 - accuracy: 0.9431\n",
      "Epoch 72/100\n",
      "1125/1125 [==============================] - 9s 8ms/step - loss: 0.3204 - accuracy: 0.9431\n",
      "Epoch 73/100\n",
      "1125/1125 [==============================] - 9s 8ms/step - loss: 0.3249 - accuracy: 0.9457\n",
      "Epoch 74/100\n",
      "1125/1125 [==============================] - 10s 9ms/step - loss: 0.3431 - accuracy: 0.9426\n",
      "Epoch 75/100\n",
      "1125/1125 [==============================] - 10s 9ms/step - loss: 0.2985 - accuracy: 0.9475\n",
      "Epoch 76/100\n",
      "1125/1125 [==============================] - 10s 9ms/step - loss: 0.3529 - accuracy: 0.9464\n",
      "Epoch 77/100\n",
      "1125/1125 [==============================] - 9s 8ms/step - loss: 0.3252 - accuracy: 0.9416\n",
      "Epoch 78/100\n",
      "1125/1125 [==============================] - 10s 9ms/step - loss: 0.3435 - accuracy: 0.9432\n",
      "Epoch 79/100\n",
      "1125/1125 [==============================] - 11s 10ms/step - loss: 0.3802 - accuracy: 0.9421\n",
      "Epoch 80/100\n",
      "1125/1125 [==============================] - 10s 9ms/step - loss: 0.3349 - accuracy: 0.9446\n",
      "Epoch 81/100\n",
      "1125/1125 [==============================] - 10s 9ms/step - loss: 0.3223 - accuracy: 0.9458\n",
      "Epoch 82/100\n",
      "1125/1125 [==============================] - 10s 9ms/step - loss: 0.3495 - accuracy: 0.9432\n",
      "Epoch 83/100\n",
      "1125/1125 [==============================] - 10s 9ms/step - loss: 0.3718 - accuracy: 0.9449\n",
      "Epoch 84/100\n",
      "1125/1125 [==============================] - 10s 9ms/step - loss: 0.3309 - accuracy: 0.9434\n",
      "Epoch 85/100\n",
      "1125/1125 [==============================] - 10s 9ms/step - loss: 0.3392 - accuracy: 0.9446\n",
      "Epoch 86/100\n",
      "1125/1125 [==============================] - 10s 9ms/step - loss: 0.3640 - accuracy: 0.9420\n",
      "Epoch 87/100\n",
      "1125/1125 [==============================] - 10s 8ms/step - loss: 0.3159 - accuracy: 0.9472\n",
      "Epoch 88/100\n",
      "1125/1125 [==============================] - 10s 9ms/step - loss: 0.3529 - accuracy: 0.9412\n",
      "Epoch 89/100\n",
      "1125/1125 [==============================] - 10s 9ms/step - loss: 0.3417 - accuracy: 0.9438\n",
      "Epoch 90/100\n",
      "1125/1125 [==============================] - 12s 10ms/step - loss: 0.3487 - accuracy: 0.9454\n",
      "Epoch 91/100\n",
      "1125/1125 [==============================] - 10s 9ms/step - loss: 0.3391 - accuracy: 0.9428\n",
      "Epoch 92/100\n",
      "1125/1125 [==============================] - 9s 8ms/step - loss: 0.3235 - accuracy: 0.9461\n",
      "Epoch 93/100\n",
      "1125/1125 [==============================] - ETA: 0s - loss: 0.3669 - accuracy: 0.94 - 10s 9ms/step - loss: 0.3670 - accuracy: 0.9429\n",
      "Epoch 94/100\n",
      "1125/1125 [==============================] - 10s 9ms/step - loss: 0.3158 - accuracy: 0.9458\n",
      "Epoch 95/100\n",
      "1125/1125 [==============================] - 10s 9ms/step - loss: 0.3368 - accuracy: 0.9463\n",
      "Epoch 96/100\n",
      "1125/1125 [==============================] - 10s 9ms/step - loss: 0.3619 - accuracy: 0.9428\n",
      "Epoch 97/100\n",
      "1125/1125 [==============================] - 10s 9ms/step - loss: 0.3056 - accuracy: 0.9458\n",
      "Epoch 98/100\n",
      "1125/1125 [==============================] - 10s 9ms/step - loss: 0.3446 - accuracy: 0.9472\n",
      "Epoch 99/100\n",
      "1125/1125 [==============================] - 9s 8ms/step - loss: 0.3617 - accuracy: 0.9472\n",
      "Epoch 100/100\n",
      "1125/1125 [==============================] - 9s 8ms/step - loss: 0.3345 - accuracy: 0.9438\n",
      "1125/1125 [==============================] - 2s 2ms/step - loss: 0.1229 - accuracy: 0.9688\n",
      "Train loss , Train Accuracy: \n",
      "[0.12287690506335922, 0.9687777777777777]\n"
     ]
    }
   ],
   "source": [
    "model = tf.keras.models.Sequential([\n",
    "    tf.keras.layers.Flatten(),\n",
    "    tf.keras.layers.Dropout(0.2),\n",
    "    tf.keras.layers.Dense(784, activation='relu'),\n",
    "    tf.keras.layers.Dropout(0.2),\n",
    "    tf.keras.layers.Dense(10, activation='softmax')\n",
    "    \n",
    "])\n",
    "\n",
    "model.compile(\n",
    "    optimizer='adam',\n",
    "    loss='sparse_categorical_crossentropy',\n",
    "    metrics=['accuracy']\n",
    ")\n",
    "xt = x_train.astype(np.float64)\n",
    "xy = y_train.astype(np.float64)\n",
    "model.fit(xt, xy, epochs=100)\n",
    "x = model.evaluate(xt, xy)\n",
    "print(\"Train loss , Train Accuracy: \")\n",
    "print(x)\n",
    "\n"
   ]
  },
  {
   "cell_type": "markdown",
   "metadata": {},
   "source": [
    "# Evaluate for the test set"
   ]
  },
  {
   "cell_type": "code",
   "execution_count": 292,
   "metadata": {},
   "outputs": [
    {
     "name": "stdout",
     "output_type": "stream",
     "text": [
      "188/188 [==============================] - 1s 6ms/step - loss: 0.7806 - accuracy: 0.9472\n",
      "Test loss , Test Accuracy: \n",
      "[0.7805985986192803, 0.9471666666666667]\n"
     ]
    }
   ],
   "source": [
    "z = model.evaluate(x_test, y_test)\n",
    "print(\"Test loss , Test Accuracy: \")\n",
    "print(z)"
   ]
  },
  {
   "cell_type": "markdown",
   "metadata": {},
   "source": [
    "# Here we shall train and evaluate the model with just 300 features instead of 784"
   ]
  },
  {
   "cell_type": "code",
   "execution_count": 293,
   "metadata": {},
   "outputs": [
    {
     "name": "stdout",
     "output_type": "stream",
     "text": [
      "in Mypca\n",
      "Separating the label\n",
      "Keeping the data except the label as dataframe\n",
      "(42000, 784)\n",
      "Using sklearn's standard scaler to pre-process data \n",
      "(36000, 300)\n",
      "(36000,)\n",
      "(6000, 300)\n",
      "(6000,)\n"
     ]
    }
   ],
   "source": [
    "x_arr = mypca(maindata,299)\n",
    "x_arr_df = pd.DataFrame(data=x_arr)\n",
    "\n",
    "x_train = x_arr_df.iloc[:36000,:]\n",
    "print(x_train.shape)\n",
    "y_train = x_arr_df.iloc[:36000,-1]\n",
    "print(y_train.shape)\n",
    "\n",
    "x_test = x_arr_df.iloc[36000:42000,:]\n",
    "print(x_test.shape)\n",
    "y_test = x_arr_df.iloc[36000:42000,-1]\n",
    "print(y_test.shape)"
   ]
  },
  {
   "cell_type": "code",
   "execution_count": 294,
   "metadata": {},
   "outputs": [
    {
     "name": "stdout",
     "output_type": "stream",
     "text": [
      "Epoch 1/100\n",
      "1125/1125 [==============================] - 2s 2ms/step - loss: 0.5674 - accuracy: 0.8436\n",
      "Epoch 2/100\n",
      "1125/1125 [==============================] - 2s 2ms/step - loss: 0.3108 - accuracy: 0.9129\n",
      "Epoch 3/100\n",
      "1125/1125 [==============================] - 2s 2ms/step - loss: 0.2516 - accuracy: 0.9304\n",
      "Epoch 4/100\n",
      "1125/1125 [==============================] - 2s 2ms/step - loss: 0.2272 - accuracy: 0.9403\n",
      "Epoch 5/100\n",
      "1125/1125 [==============================] - 2s 2ms/step - loss: 0.2069 - accuracy: 0.9472\n",
      "Epoch 6/100\n",
      "1125/1125 [==============================] - 2s 2ms/step - loss: 0.1833 - accuracy: 0.9531\n",
      "Epoch 7/100\n",
      "1125/1125 [==============================] - 2s 2ms/step - loss: 0.1711 - accuracy: 0.9545\n",
      "Epoch 8/100\n",
      "1125/1125 [==============================] - 2s 2ms/step - loss: 0.1595 - accuracy: 0.9591\n",
      "Epoch 9/100\n",
      "1125/1125 [==============================] - 2s 2ms/step - loss: 0.1451 - accuracy: 0.9625\n",
      "Epoch 10/100\n",
      "1125/1125 [==============================] - 2s 1ms/step - loss: 0.1444 - accuracy: 0.9635\n",
      "Epoch 11/100\n",
      "1125/1125 [==============================] - 2s 2ms/step - loss: 0.1362 - accuracy: 0.9641\n",
      "Epoch 12/100\n",
      "1125/1125 [==============================] - 2s 2ms/step - loss: 0.1414 - accuracy: 0.9644\n",
      "Epoch 13/100\n",
      "1125/1125 [==============================] - 2s 2ms/step - loss: 0.1215 - accuracy: 0.9679\n",
      "Epoch 14/100\n",
      "1125/1125 [==============================] - 2s 2ms/step - loss: 0.1288 - accuracy: 0.9688\n",
      "Epoch 15/100\n",
      "1125/1125 [==============================] - 2s 2ms/step - loss: 0.1246 - accuracy: 0.9680\n",
      "Epoch 16/100\n",
      "1125/1125 [==============================] - 3s 2ms/step - loss: 0.1178 - accuracy: 0.9695\n",
      "Epoch 17/100\n",
      "1125/1125 [==============================] - 2s 2ms/step - loss: 0.1097 - accuracy: 0.9720: 0s - loss:\n",
      "Epoch 18/100\n",
      "1125/1125 [==============================] - 2s 2ms/step - loss: 0.1119 - accuracy: 0.9730\n",
      "Epoch 19/100\n",
      "1125/1125 [==============================] - 2s 2ms/step - loss: 0.1179 - accuracy: 0.9720\n",
      "Epoch 20/100\n",
      "1125/1125 [==============================] - 2s 2ms/step - loss: 0.1117 - accuracy: 0.9725\n",
      "Epoch 21/100\n",
      "1125/1125 [==============================] - 2s 2ms/step - loss: 0.1072 - accuracy: 0.9732\n",
      "Epoch 22/100\n",
      "1125/1125 [==============================] - 2s 2ms/step - loss: 0.1000 - accuracy: 0.9739\n",
      "Epoch 23/100\n",
      "1125/1125 [==============================] - 2s 2ms/step - loss: 0.1068 - accuracy: 0.9738\n",
      "Epoch 24/100\n",
      "1125/1125 [==============================] - 2s 2ms/step - loss: 0.1005 - accuracy: 0.9755\n",
      "Epoch 25/100\n",
      "1125/1125 [==============================] - 2s 2ms/step - loss: 0.1039 - accuracy: 0.9750\n",
      "Epoch 26/100\n",
      "1125/1125 [==============================] - 2s 2ms/step - loss: 0.1066 - accuracy: 0.9752\n",
      "Epoch 27/100\n",
      "1125/1125 [==============================] - 2s 2ms/step - loss: 0.0931 - accuracy: 0.9761\n",
      "Epoch 28/100\n",
      "1125/1125 [==============================] - 2s 2ms/step - loss: 0.1011 - accuracy: 0.9768\n",
      "Epoch 29/100\n",
      "1125/1125 [==============================] - 2s 2ms/step - loss: 0.0928 - accuracy: 0.9762\n",
      "Epoch 30/100\n",
      "1125/1125 [==============================] - 2s 2ms/step - loss: 0.0985 - accuracy: 0.9770\n",
      "Epoch 31/100\n",
      "1125/1125 [==============================] - 2s 2ms/step - loss: 0.1034 - accuracy: 0.9769\n",
      "Epoch 32/100\n",
      "1125/1125 [==============================] - 2s 2ms/step - loss: 0.0881 - accuracy: 0.9786\n",
      "Epoch 33/100\n",
      "1125/1125 [==============================] - 2s 2ms/step - loss: 0.0946 - accuracy: 0.9778\n",
      "Epoch 34/100\n",
      "1125/1125 [==============================] - 2s 2ms/step - loss: 0.0954 - accuracy: 0.9778\n",
      "Epoch 35/100\n",
      "1125/1125 [==============================] - 2s 2ms/step - loss: 0.0871 - accuracy: 0.9788\n",
      "Epoch 36/100\n",
      "1125/1125 [==============================] - 2s 2ms/step - loss: 0.0869 - accuracy: 0.9788\n",
      "Epoch 37/100\n",
      "1125/1125 [==============================] - 2s 2ms/step - loss: 0.0944 - accuracy: 0.9792\n",
      "Epoch 38/100\n",
      "1125/1125 [==============================] - 2s 2ms/step - loss: 0.0798 - accuracy: 0.9808\n",
      "Epoch 39/100\n",
      "1125/1125 [==============================] - 2s 2ms/step - loss: 0.0825 - accuracy: 0.9796\n",
      "Epoch 40/100\n",
      "1125/1125 [==============================] - 2s 2ms/step - loss: 0.0877 - accuracy: 0.9798\n",
      "Epoch 41/100\n",
      "1125/1125 [==============================] - 2s 2ms/step - loss: 0.0906 - accuracy: 0.9794\n",
      "Epoch 42/100\n",
      "1125/1125 [==============================] - 2s 2ms/step - loss: 0.0966 - accuracy: 0.9800\n",
      "Epoch 43/100\n",
      "1125/1125 [==============================] - 2s 2ms/step - loss: 0.0956 - accuracy: 0.9796\n",
      "Epoch 44/100\n",
      "1125/1125 [==============================] - 2s 2ms/step - loss: 0.0776 - accuracy: 0.9810\n",
      "Epoch 45/100\n",
      "1125/1125 [==============================] - 2s 2ms/step - loss: 0.0823 - accuracy: 0.9806\n",
      "Epoch 46/100\n",
      "1125/1125 [==============================] - 2s 2ms/step - loss: 0.0828 - accuracy: 0.9814\n",
      "Epoch 47/100\n",
      "1125/1125 [==============================] - 2s 2ms/step - loss: 0.0826 - accuracy: 0.9811\n",
      "Epoch 48/100\n",
      "1125/1125 [==============================] - 2s 2ms/step - loss: 0.0778 - accuracy: 0.9829\n",
      "Epoch 49/100\n",
      "1125/1125 [==============================] - 3s 3ms/step - loss: 0.0935 - accuracy: 0.9806\n",
      "Epoch 50/100\n",
      "1125/1125 [==============================] - 3s 2ms/step - loss: 0.0853 - accuracy: 0.9812\n",
      "Epoch 51/100\n",
      "1125/1125 [==============================] - 2s 2ms/step - loss: 0.0784 - accuracy: 0.9822\n",
      "Epoch 52/100\n",
      "1125/1125 [==============================] - 2s 2ms/step - loss: 0.0958 - accuracy: 0.9801\n",
      "Epoch 53/100\n",
      "1125/1125 [==============================] - 2s 2ms/step - loss: 0.0815 - accuracy: 0.9823\n",
      "Epoch 54/100\n",
      "1125/1125 [==============================] - 2s 2ms/step - loss: 0.0852 - accuracy: 0.9809\n",
      "Epoch 55/100\n",
      "1125/1125 [==============================] - 2s 2ms/step - loss: 0.0873 - accuracy: 0.9808\n",
      "Epoch 56/100\n",
      "1125/1125 [==============================] - 2s 2ms/step - loss: 0.0704 - accuracy: 0.9829\n",
      "Epoch 57/100\n",
      "1125/1125 [==============================] - 2s 2ms/step - loss: 0.0764 - accuracy: 0.9823\n",
      "Epoch 58/100\n",
      "1125/1125 [==============================] - 2s 2ms/step - loss: 0.0791 - accuracy: 0.9828\n",
      "Epoch 59/100\n",
      "1125/1125 [==============================] - 2s 2ms/step - loss: 0.0934 - accuracy: 0.9814\n",
      "Epoch 60/100\n",
      "1125/1125 [==============================] - 2s 2ms/step - loss: 0.0760 - accuracy: 0.9831\n",
      "Epoch 61/100\n",
      "1125/1125 [==============================] - 2s 2ms/step - loss: 0.0786 - accuracy: 0.9831: 0s - loss: 0.0\n",
      "Epoch 62/100\n",
      "1125/1125 [==============================] - 2s 2ms/step - loss: 0.0822 - accuracy: 0.9828\n",
      "Epoch 63/100\n",
      "1125/1125 [==============================] - 2s 2ms/step - loss: 0.0703 - accuracy: 0.9828: 0s - loss: 0.0700 - accuracy: 0.98\n",
      "Epoch 64/100\n",
      "1125/1125 [==============================] - 2s 2ms/step - loss: 0.0783 - accuracy: 0.9828\n",
      "Epoch 65/100\n",
      "1125/1125 [==============================] - 2s 2ms/step - loss: 0.0762 - accuracy: 0.9826\n",
      "Epoch 66/100\n",
      "1125/1125 [==============================] - 2s 2ms/step - loss: 0.0789 - accuracy: 0.9832\n",
      "Epoch 67/100\n",
      "1125/1125 [==============================] - 2s 2ms/step - loss: 0.0736 - accuracy: 0.9834\n",
      "Epoch 68/100\n",
      "1125/1125 [==============================] - 2s 2ms/step - loss: 0.0812 - accuracy: 0.9827\n",
      "Epoch 69/100\n",
      "1125/1125 [==============================] - 2s 2ms/step - loss: 0.0808 - accuracy: 0.9834\n",
      "Epoch 70/100\n",
      "1125/1125 [==============================] - 2s 2ms/step - loss: 0.0698 - accuracy: 0.9841\n",
      "Epoch 71/100\n",
      "1125/1125 [==============================] - 2s 2ms/step - loss: 0.0723 - accuracy: 0.9842\n",
      "Epoch 72/100\n",
      "1125/1125 [==============================] - 2s 2ms/step - loss: 0.0797 - accuracy: 0.9836\n",
      "Epoch 73/100\n",
      "1125/1125 [==============================] - 2s 2ms/step - loss: 0.0708 - accuracy: 0.9843\n",
      "Epoch 74/100\n",
      "1125/1125 [==============================] - 2s 2ms/step - loss: 0.0767 - accuracy: 0.9848\n",
      "Epoch 75/100\n",
      "1125/1125 [==============================] - 2s 2ms/step - loss: 0.0722 - accuracy: 0.9856\n",
      "Epoch 76/100\n",
      "1125/1125 [==============================] - 2s 2ms/step - loss: 0.0665 - accuracy: 0.9851\n",
      "Epoch 77/100\n",
      "1125/1125 [==============================] - 2s 2ms/step - loss: 0.0775 - accuracy: 0.9845\n",
      "Epoch 78/100\n",
      "1125/1125 [==============================] - 2s 2ms/step - loss: 0.0715 - accuracy: 0.9854\n",
      "Epoch 79/100\n",
      "1125/1125 [==============================] - 2s 2ms/step - loss: 0.0684 - accuracy: 0.9851\n",
      "Epoch 80/100\n",
      "1125/1125 [==============================] - 2s 2ms/step - loss: 0.0743 - accuracy: 0.9832\n",
      "Epoch 81/100\n",
      "1125/1125 [==============================] - 2s 2ms/step - loss: 0.0776 - accuracy: 0.9844\n",
      "Epoch 82/100\n",
      "1125/1125 [==============================] - 2s 2ms/step - loss: 0.0672 - accuracy: 0.9854\n",
      "Epoch 83/100\n",
      "1125/1125 [==============================] - 2s 2ms/step - loss: 0.0760 - accuracy: 0.9849\n",
      "Epoch 84/100\n",
      "1125/1125 [==============================] - 2s 2ms/step - loss: 0.0705 - accuracy: 0.9842\n",
      "Epoch 85/100\n",
      "1125/1125 [==============================] - 2s 2ms/step - loss: 0.0743 - accuracy: 0.9843: 0s - loss: 0.0\n",
      "Epoch 86/100\n",
      "1125/1125 [==============================] - 2s 2ms/step - loss: 0.0691 - accuracy: 0.9851\n",
      "Epoch 87/100\n",
      "1125/1125 [==============================] - 2s 2ms/step - loss: 0.0715 - accuracy: 0.9851\n",
      "Epoch 88/100\n",
      "1125/1125 [==============================] - 2s 2ms/step - loss: 0.0780 - accuracy: 0.9832\n",
      "Epoch 89/100\n",
      "1125/1125 [==============================] - 2s 2ms/step - loss: 0.0729 - accuracy: 0.9860\n",
      "Epoch 90/100\n",
      "1125/1125 [==============================] - 2s 2ms/step - loss: 0.0830 - accuracy: 0.9856\n",
      "Epoch 91/100\n",
      "1125/1125 [==============================] - 3s 3ms/step - loss: 0.0953 - accuracy: 0.9838\n",
      "Epoch 92/100\n",
      "1125/1125 [==============================] - 3s 2ms/step - loss: 0.0550 - accuracy: 0.9869\n",
      "Epoch 93/100\n",
      "1125/1125 [==============================] - 2s 2ms/step - loss: 0.0660 - accuracy: 0.9860\n",
      "Epoch 94/100\n",
      "1125/1125 [==============================] - 2s 2ms/step - loss: 0.0748 - accuracy: 0.9853\n",
      "Epoch 95/100\n",
      "1125/1125 [==============================] - 2s 2ms/step - loss: 0.0750 - accuracy: 0.9852\n",
      "Epoch 96/100\n",
      "1125/1125 [==============================] - 2s 2ms/step - loss: 0.0667 - accuracy: 0.9864\n",
      "Epoch 97/100\n",
      "1125/1125 [==============================] - 2s 2ms/step - loss: 0.0696 - accuracy: 0.9849\n",
      "Epoch 98/100\n",
      "1125/1125 [==============================] - 2s 2ms/step - loss: 0.0672 - accuracy: 0.9855\n",
      "Epoch 99/100\n",
      "1125/1125 [==============================] - 3s 3ms/step - loss: 0.0714 - accuracy: 0.9841\n",
      "Epoch 100/100\n",
      "1125/1125 [==============================] - 3s 2ms/step - loss: 0.0745 - accuracy: 0.9860\n",
      "1125/1125 [==============================] - 2s 1ms/step - loss: 0.0043 - accuracy: 0.9994\n",
      "Train loss , Train Accuracy: \n",
      "[0.004277837989439831, 0.9993888888888889]\n"
     ]
    }
   ],
   "source": [
    "model = tf.keras.models.Sequential([\n",
    "    tf.keras.layers.Flatten(),\n",
    "    tf.keras.layers.Dropout(0.2),\n",
    "    tf.keras.layers.Dense(300, activation='relu'),\n",
    "    tf.keras.layers.Dropout(0.2),\n",
    "    tf.keras.layers.Dense(10, activation='softmax') \n",
    "    \n",
    "])\n",
    "\n",
    "model.compile(\n",
    "    optimizer='adam',\n",
    "    loss='sparse_categorical_crossentropy',\n",
    "    metrics=['accuracy']\n",
    ")\n",
    "x_train = x_train.astype(np.float64)\n",
    "y_train = y_train.astype(np.float64)\n",
    "model.fit(x_train, y_train, epochs=100)\n",
    "x = model.evaluate(x_train, y_train)\n",
    "print(\"Train loss , Train Accuracy: \")\n",
    "print(x)\n"
   ]
  },
  {
   "cell_type": "markdown",
   "metadata": {},
   "source": [
    "# Evaluate for the test set"
   ]
  },
  {
   "cell_type": "code",
   "execution_count": 295,
   "metadata": {},
   "outputs": [
    {
     "name": "stdout",
     "output_type": "stream",
     "text": [
      "188/188 [==============================] - 0s 2ms/step - loss: 0.2320 - accuracy: 0.9852\n",
      "Test loss , Test Accuracy: \n",
      "[0.23197946513215234, 0.9851666666666666]\n"
     ]
    }
   ],
   "source": [
    "\n",
    "z = model.evaluate(x_test, y_test)\n",
    "print(\"Test loss , Test Accuracy: \")\n",
    "print(z)"
   ]
  },
  {
   "cell_type": "markdown",
   "metadata": {},
   "source": [
    "# Here we shall train and evaluate the model with just 30 features instead of 784"
   ]
  },
  {
   "cell_type": "code",
   "execution_count": 296,
   "metadata": {},
   "outputs": [
    {
     "name": "stdout",
     "output_type": "stream",
     "text": [
      "in Mypca\n",
      "Separating the label\n",
      "Keeping the data except the label as dataframe\n",
      "(42000, 784)\n",
      "Using sklearn's standard scaler to pre-process data \n",
      "(36000, 30)\n",
      "(36000,)\n",
      "(6000, 30)\n",
      "(6000,)\n"
     ]
    }
   ],
   "source": [
    "x_arr = mypca(maindata,29)\n",
    "x_arr_df = pd.DataFrame(data=x_arr)\n",
    "\n",
    "x_train = x_arr_df.iloc[:36000,:]\n",
    "print(x_train.shape)\n",
    "y_train = x_arr_df.iloc[:36000,-1]\n",
    "print(y_train.shape)\n",
    "\n",
    "x_test = x_arr_df.iloc[36000:42000,:]\n",
    "print(x_test.shape)\n",
    "y_test = x_arr_df.iloc[36000:42000,-1]\n",
    "print(y_test.shape)"
   ]
  },
  {
   "cell_type": "code",
   "execution_count": 304,
   "metadata": {},
   "outputs": [
    {
     "name": "stdout",
     "output_type": "stream",
     "text": [
      "Epoch 1/100\n",
      "1125/1125 [==============================] - 3s 3ms/step - loss: 1.2950 - accuracy: 0.6232\n",
      "Epoch 2/100\n",
      "1125/1125 [==============================] - 3s 3ms/step - loss: 0.6648 - accuracy: 0.7839\n",
      "Epoch 3/100\n",
      "1125/1125 [==============================] - 2s 1ms/step - loss: 0.5869 - accuracy: 0.8052\n",
      "Epoch 4/100\n",
      "1125/1125 [==============================] - 2s 2ms/step - loss: 0.5555 - accuracy: 0.8192\n",
      "Epoch 5/100\n",
      "1125/1125 [==============================] - 2s 2ms/step - loss: 0.5382 - accuracy: 0.8233\n",
      "Epoch 6/100\n",
      "1125/1125 [==============================] - 2s 2ms/step - loss: 0.5103 - accuracy: 0.8301\n",
      "Epoch 7/100\n",
      "1125/1125 [==============================] - 3s 3ms/step - loss: 0.4914 - accuracy: 0.8365\n",
      "Epoch 8/100\n",
      "1125/1125 [==============================] - 2s 2ms/step - loss: 0.4821 - accuracy: 0.8398\n",
      "Epoch 9/100\n",
      "1125/1125 [==============================] - 3s 2ms/step - loss: 0.4701 - accuracy: 0.8447\n",
      "Epoch 10/100\n",
      "1125/1125 [==============================] - 3s 3ms/step - loss: 0.4620 - accuracy: 0.8491\n",
      "Epoch 11/100\n",
      "1125/1125 [==============================] - 2s 1ms/step - loss: 0.4457 - accuracy: 0.8521\n",
      "Epoch 12/100\n",
      "1125/1125 [==============================] - 2s 1ms/step - loss: 0.4390 - accuracy: 0.8564\n",
      "Epoch 13/100\n",
      "1125/1125 [==============================] - 1s 1ms/step - loss: 0.4314 - accuracy: 0.8596\n",
      "Epoch 14/100\n",
      "1125/1125 [==============================] - 1s 1ms/step - loss: 0.4184 - accuracy: 0.8628\n",
      "Epoch 15/100\n",
      "1125/1125 [==============================] - 2s 2ms/step - loss: 0.4154 - accuracy: 0.8651\n",
      "Epoch 16/100\n",
      "1125/1125 [==============================] - 3s 2ms/step - loss: 0.4008 - accuracy: 0.8701\n",
      "Epoch 17/100\n",
      "1125/1125 [==============================] - 2s 2ms/step - loss: 0.3963 - accuracy: 0.8714\n",
      "Epoch 18/100\n",
      "1125/1125 [==============================] - 1s 1ms/step - loss: 0.3866 - accuracy: 0.8740\n",
      "Epoch 19/100\n",
      "1125/1125 [==============================] - 2s 2ms/step - loss: 0.3839 - accuracy: 0.8770\n",
      "Epoch 20/100\n",
      "1125/1125 [==============================] - 2s 2ms/step - loss: 0.3799 - accuracy: 0.8779\n",
      "Epoch 21/100\n",
      "1125/1125 [==============================] - 3s 3ms/step - loss: 0.3737 - accuracy: 0.8786\n",
      "Epoch 22/100\n",
      "1125/1125 [==============================] - 3s 2ms/step - loss: 0.3714 - accuracy: 0.8802\n",
      "Epoch 23/100\n",
      "1125/1125 [==============================] - 2s 2ms/step - loss: 0.3651 - accuracy: 0.8829\n",
      "Epoch 24/100\n",
      "1125/1125 [==============================] - 1s 1ms/step - loss: 0.3706 - accuracy: 0.8812\n",
      "Epoch 25/100\n",
      "1125/1125 [==============================] - 3s 3ms/step - loss: 0.3598 - accuracy: 0.8830\n",
      "Epoch 26/100\n",
      "1125/1125 [==============================] - 3s 3ms/step - loss: 0.3563 - accuracy: 0.8841\n",
      "Epoch 27/100\n",
      "1125/1125 [==============================] - 1s 1ms/step - loss: 0.3520 - accuracy: 0.8855\n",
      "Epoch 28/100\n",
      "1125/1125 [==============================] - 2s 1ms/step - loss: 0.3495 - accuracy: 0.8869\n",
      "Epoch 29/100\n",
      "1125/1125 [==============================] - 1s 1ms/step - loss: 0.3505 - accuracy: 0.8887\n",
      "Epoch 30/100\n",
      "1125/1125 [==============================] - 2s 2ms/step - loss: 0.3505 - accuracy: 0.8868\n",
      "Epoch 31/100\n",
      "1125/1125 [==============================] - 1s 1ms/step - loss: 0.3395 - accuracy: 0.8892\n",
      "Epoch 32/100\n",
      "1125/1125 [==============================] - 2s 1ms/step - loss: 0.3459 - accuracy: 0.8893\n",
      "Epoch 33/100\n",
      "1125/1125 [==============================] - 2s 2ms/step - loss: 0.3427 - accuracy: 0.8908\n",
      "Epoch 34/100\n",
      "1125/1125 [==============================] - 2s 2ms/step - loss: 0.3432 - accuracy: 0.8885\n",
      "Epoch 35/100\n",
      "1125/1125 [==============================] - 2s 2ms/step - loss: 0.3373 - accuracy: 0.8899\n",
      "Epoch 36/100\n",
      "1125/1125 [==============================] - 2s 1ms/step - loss: 0.3408 - accuracy: 0.8901\n",
      "Epoch 37/100\n",
      "1125/1125 [==============================] - 1s 1ms/step - loss: 0.3395 - accuracy: 0.8912\n",
      "Epoch 38/100\n",
      "1125/1125 [==============================] - 1s 1ms/step - loss: 0.3330 - accuracy: 0.8926\n",
      "Epoch 39/100\n",
      "1125/1125 [==============================] - 3s 3ms/step - loss: 0.3372 - accuracy: 0.8913\n",
      "Epoch 40/100\n",
      "1125/1125 [==============================] - 3s 2ms/step - loss: 0.3415 - accuracy: 0.8890\n",
      "Epoch 41/100\n",
      "1125/1125 [==============================] - 3s 2ms/step - loss: 0.3384 - accuracy: 0.8929\n",
      "Epoch 42/100\n",
      "1125/1125 [==============================] - 3s 3ms/step - loss: 0.3321 - accuracy: 0.8930\n",
      "Epoch 43/100\n",
      "1125/1125 [==============================] - 3s 3ms/step - loss: 0.3310 - accuracy: 0.8927\n",
      "Epoch 44/100\n",
      "1125/1125 [==============================] - 2s 2ms/step - loss: 0.3326 - accuracy: 0.8926\n",
      "Epoch 45/100\n",
      "1125/1125 [==============================] - 2s 1ms/step - loss: 0.3295 - accuracy: 0.8933\n",
      "Epoch 46/100\n",
      "1125/1125 [==============================] - 3s 2ms/step - loss: 0.3324 - accuracy: 0.8928\n",
      "Epoch 47/100\n",
      "1125/1125 [==============================] - 3s 3ms/step - loss: 0.3260 - accuracy: 0.8947\n",
      "Epoch 48/100\n",
      "1125/1125 [==============================] - 3s 3ms/step - loss: 0.3251 - accuracy: 0.8942\n",
      "Epoch 49/100\n",
      "1125/1125 [==============================] - 2s 2ms/step - loss: 0.3355 - accuracy: 0.8917\n",
      "Epoch 50/100\n",
      "1125/1125 [==============================] - 2s 2ms/step - loss: 0.3358 - accuracy: 0.8927: 0s\n",
      "Epoch 51/100\n",
      "1125/1125 [==============================] - 2s 1ms/step - loss: 0.3303 - accuracy: 0.8949\n",
      "Epoch 52/100\n",
      "1125/1125 [==============================] - 1s 1ms/step - loss: 0.3304 - accuracy: 0.8942\n",
      "Epoch 53/100\n",
      "1125/1125 [==============================] - 2s 1ms/step - loss: 0.3273 - accuracy: 0.8935\n",
      "Epoch 54/100\n",
      "1125/1125 [==============================] - 2s 1ms/step - loss: 0.3320 - accuracy: 0.8948\n",
      "Epoch 55/100\n",
      "1125/1125 [==============================] - 2s 1ms/step - loss: 0.3249 - accuracy: 0.8942\n",
      "Epoch 56/100\n",
      "1125/1125 [==============================] - 2s 2ms/step - loss: 0.3299 - accuracy: 0.8937\n",
      "Epoch 57/100\n",
      "1125/1125 [==============================] - 3s 3ms/step - loss: 0.3320 - accuracy: 0.8930\n",
      "Epoch 58/100\n",
      "1125/1125 [==============================] - 3s 3ms/step - loss: 0.3317 - accuracy: 0.8920\n",
      "Epoch 59/100\n",
      "1125/1125 [==============================] - 2s 1ms/step - loss: 0.3234 - accuracy: 0.8946\n",
      "Epoch 60/100\n",
      "1125/1125 [==============================] - 2s 1ms/step - loss: 0.3294 - accuracy: 0.8950\n",
      "Epoch 61/100\n",
      "1125/1125 [==============================] - 3s 3ms/step - loss: 0.3283 - accuracy: 0.8942\n",
      "Epoch 62/100\n",
      "1125/1125 [==============================] - 3s 2ms/step - loss: 0.3316 - accuracy: 0.8955\n",
      "Epoch 63/100\n",
      "1125/1125 [==============================] - 3s 2ms/step - loss: 0.3258 - accuracy: 0.8946\n",
      "Epoch 64/100\n",
      "1125/1125 [==============================] - 3s 3ms/step - loss: 0.3260 - accuracy: 0.8948\n",
      "Epoch 65/100\n",
      "1125/1125 [==============================] - 3s 3ms/step - loss: 0.3219 - accuracy: 0.8955\n",
      "Epoch 66/100\n",
      "1125/1125 [==============================] - 3s 3ms/step - loss: 0.3258 - accuracy: 0.8943\n",
      "Epoch 67/100\n",
      "1125/1125 [==============================] - 2s 2ms/step - loss: 0.3220 - accuracy: 0.8951\n",
      "Epoch 68/100\n",
      "1125/1125 [==============================] - 1s 1ms/step - loss: 0.3306 - accuracy: 0.8930\n",
      "Epoch 69/100\n",
      "1125/1125 [==============================] - 2s 2ms/step - loss: 0.3230 - accuracy: 0.8954\n",
      "Epoch 70/100\n",
      "1125/1125 [==============================] - 3s 3ms/step - loss: 0.3258 - accuracy: 0.8940\n",
      "Epoch 71/100\n",
      "1125/1125 [==============================] - 3s 3ms/step - loss: 0.3202 - accuracy: 0.8962\n",
      "Epoch 72/100\n",
      "1125/1125 [==============================] - 3s 3ms/step - loss: 0.3213 - accuracy: 0.8953\n",
      "Epoch 73/100\n",
      "1125/1125 [==============================] - 3s 3ms/step - loss: 0.3334 - accuracy: 0.8908\n",
      "Epoch 74/100\n",
      "1125/1125 [==============================] - 3s 2ms/step - loss: 0.3211 - accuracy: 0.8975\n",
      "Epoch 75/100\n",
      "1125/1125 [==============================] - 2s 2ms/step - loss: 0.3269 - accuracy: 0.8935\n",
      "Epoch 76/100\n",
      "1125/1125 [==============================] - 3s 2ms/step - loss: 0.3235 - accuracy: 0.8952\n",
      "Epoch 77/100\n",
      "1125/1125 [==============================] - 2s 2ms/step - loss: 0.3214 - accuracy: 0.8964\n",
      "Epoch 78/100\n",
      "1125/1125 [==============================] - 2s 2ms/step - loss: 0.3166 - accuracy: 0.8966\n",
      "Epoch 79/100\n",
      "1125/1125 [==============================] - 2s 2ms/step - loss: 0.3209 - accuracy: 0.8955\n",
      "Epoch 80/100\n",
      "1125/1125 [==============================] - 2s 2ms/step - loss: 0.3250 - accuracy: 0.8950\n",
      "Epoch 81/100\n",
      "1125/1125 [==============================] - 2s 2ms/step - loss: 0.3284 - accuracy: 0.8944\n",
      "Epoch 82/100\n",
      "1125/1125 [==============================] - 2s 2ms/step - loss: 0.3225 - accuracy: 0.8969\n",
      "Epoch 83/100\n",
      "1125/1125 [==============================] - 2s 2ms/step - loss: 0.3220 - accuracy: 0.8973\n",
      "Epoch 84/100\n",
      "1125/1125 [==============================] - 2s 2ms/step - loss: 0.3221 - accuracy: 0.9000\n",
      "Epoch 85/100\n",
      "1125/1125 [==============================] - 2s 2ms/step - loss: 0.3236 - accuracy: 0.8968\n",
      "Epoch 86/100\n",
      "1125/1125 [==============================] - 1s 1ms/step - loss: 0.3218 - accuracy: 0.8955\n",
      "Epoch 87/100\n",
      "1125/1125 [==============================] - 1s 1ms/step - loss: 0.3145 - accuracy: 0.8996\n",
      "Epoch 88/100\n",
      "1125/1125 [==============================] - 3s 2ms/step - loss: 0.3210 - accuracy: 0.8967\n",
      "Epoch 89/100\n",
      "1125/1125 [==============================] - 3s 3ms/step - loss: 0.3227 - accuracy: 0.8964\n",
      "Epoch 90/100\n",
      "1125/1125 [==============================] - 3s 3ms/step - loss: 0.3090 - accuracy: 0.8994\n",
      "Epoch 91/100\n",
      "1125/1125 [==============================] - 3s 3ms/step - loss: 0.3196 - accuracy: 0.8946\n",
      "Epoch 92/100\n",
      "1125/1125 [==============================] - 3s 3ms/step - loss: 0.3211 - accuracy: 0.8972\n",
      "Epoch 93/100\n",
      "1125/1125 [==============================] - 3s 3ms/step - loss: 0.3198 - accuracy: 0.8986\n",
      "Epoch 94/100\n",
      "1125/1125 [==============================] - 3s 3ms/step - loss: 0.3244 - accuracy: 0.8940\n",
      "Epoch 95/100\n",
      "1125/1125 [==============================] - 3s 3ms/step - loss: 0.3173 - accuracy: 0.8979\n",
      "Epoch 96/100\n",
      "1125/1125 [==============================] - 3s 3ms/step - loss: 0.3215 - accuracy: 0.8974\n",
      "Epoch 97/100\n",
      "1125/1125 [==============================] - 3s 3ms/step - loss: 0.3189 - accuracy: 0.8962\n",
      "Epoch 98/100\n",
      "1125/1125 [==============================] - 3s 3ms/step - loss: 0.3153 - accuracy: 0.8980\n",
      "Epoch 99/100\n",
      "1125/1125 [==============================] - 2s 2ms/step - loss: 0.3181 - accuracy: 0.8974\n",
      "Epoch 100/100\n",
      "1125/1125 [==============================] - 2s 2ms/step - loss: 0.3179 - accuracy: 0.8999\n",
      "1125/1125 [==============================] - 2s 2ms/step - loss: 0.1452 - accuracy: 0.9551\n",
      "Train loss , Train Accuracy: \n",
      "[0.14516184415751032, 0.9551388888888889]\n"
     ]
    }
   ],
   "source": [
    "model = tf.keras.models.Sequential([\n",
    "    tf.keras.layers.Flatten(),\n",
    "    tf.keras.layers.Dropout(0.2),\n",
    "    tf.keras.layers.Dense(30, activation='relu'),\n",
    "    tf.keras.layers.Dropout(0.2),\n",
    "    tf.keras.layers.Dense(10, activation='softmax') \n",
    "    \n",
    "])\n",
    "\n",
    "model.compile(\n",
    "    optimizer='adam',\n",
    "    loss='sparse_categorical_crossentropy',\n",
    "    metrics=['accuracy']\n",
    ")\n",
    "x_train = x_train.astype(np.float64)\n",
    "y_train = y_train.astype(np.float64)\n",
    "model.fit(x_train, y_train, epochs=100)\n",
    "x = model.evaluate(x_train, y_train)\n",
    "print(\"Train loss , Train Accuracy: \")\n",
    "print(x)"
   ]
  },
  {
   "cell_type": "markdown",
   "metadata": {},
   "source": [
    "# Evaluate for the test set"
   ]
  },
  {
   "cell_type": "code",
   "execution_count": 298,
   "metadata": {},
   "outputs": [
    {
     "name": "stdout",
     "output_type": "stream",
     "text": [
      "188/188 [==============================] - 0s 2ms/step - loss: 0.1402 - accuracy: 0.9567\n",
      "Test loss , Test Accuracy: \n",
      "[0.14020097506046295, 0.9566666666666667]\n"
     ]
    }
   ],
   "source": [
    "z = model.evaluate(x_test, y_test)\n",
    "print(\"Test loss , Test Accuracy: \")\n",
    "print(z)"
   ]
  }
 ],
 "metadata": {
  "kernelspec": {
   "display_name": "Python 3",
   "language": "python",
   "name": "python3"
  },
  "language_info": {
   "codemirror_mode": {
    "name": "ipython",
    "version": 3
   },
   "file_extension": ".py",
   "mimetype": "text/x-python",
   "name": "python",
   "nbconvert_exporter": "python",
   "pygments_lexer": "ipython3",
   "version": "3.7.5"
  }
 },
 "nbformat": 4,
 "nbformat_minor": 4
}

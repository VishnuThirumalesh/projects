{
 "cells": [
  {
   "cell_type": "code",
   "execution_count": 1,
   "metadata": {},
   "outputs": [],
   "source": [
    "import csv\n",
    "import tweepy\n",
    "import pandas as pd"
   ]
  },
  {
   "cell_type": "code",
   "execution_count": 2,
   "metadata": {},
   "outputs": [],
   "source": [
    "\n",
    "api_key = \"our API Key here\"\n",
    "\n",
    "api_key_secret = \"API secret key here\"\n",
    "\n",
    "access_token = \"API Token here\"\n",
    "\n",
    "access_token_secret = \"Access token here\""
   ]
  },
  {
   "cell_type": "code",
   "execution_count": 3,
   "metadata": {},
   "outputs": [],
   "source": [
    "\n",
    "auth = tweepy.OAuthHandler(api_key,api_key_secret)\n",
    "auth.set_access_token(access_token,access_token_secret)\n",
    "api = tweepy.API(auth)\n",
    "api = tweepy.API(auth,wait_on_rate_limit=True)\n"
   ]
  },
  {
   "cell_type": "code",
   "execution_count": 5,
   "metadata": {},
   "outputs": [],
   "source": [
    "candidate_name = ['realDonaldTrump','JoeBiden']\n",
    "\n",
    "replies_trump = []\n",
    "replies_biden = []\n",
    "\n",
    "for candidate in candidate_name:\n",
    "    for tweet in tweepy.Cursor(api.search,q='to:'+candidate, result_type='recent',timeout=999999).items(10000):\n",
    "        if candidate == \"realDonaldTrump\":\n",
    "            replies_trump.append(tweet)\n",
    "            \n",
    "        elif candidate == \"JoeBiden\":\n",
    "            replies_biden.append(tweet)"
   ]
  },
  {
   "cell_type": "code",
   "execution_count": 6,
   "metadata": {},
   "outputs": [],
   "source": [
    "biden_df = pd.DataFrame()\n",
    "trump_df = pd.DataFrame()\n",
    "\n",
    "df_names = ['biden_df','trump_df']\n",
    "\n",
    "for tweet in replies_trump:\n",
    "    row = {'user': tweet.user.screen_name, 'text': tweet.text.replace('\\n', ' ')}\n",
    "    trump_df = trump_df.append(row, ignore_index=True)\n",
    "    trump_df.to_csv(r'data/trump_data.csv')   #this file has been combined with Trumpall.csv along with youtube comments\n",
    "    \n",
    "for tweet in replies_biden:\n",
    "    row = {'user': tweet.user.screen_name, 'text': tweet.text.replace('\\n', ' ')}\n",
    "    biden_df = biden_df.append(row, ignore_index=True)\n",
    "    biden_df.to_csv(r'data/biden_data.csv')   #this file has been combined with Bidenall.csv along with youtube comments\n"
   ]
  }
 ],
 "metadata": {
  "kernelspec": {
   "display_name": "Python 3",
   "language": "python",
   "name": "python3"
  },
  "language_info": {
   "codemirror_mode": {
    "name": "ipython",
    "version": 3
   },
   "file_extension": ".py",
   "mimetype": "text/x-python",
   "name": "python",
   "nbconvert_exporter": "python",
   "pygments_lexer": "ipython3",
   "version": "3.7.5"
  }
 },
 "nbformat": 4,
 "nbformat_minor": 4
}
